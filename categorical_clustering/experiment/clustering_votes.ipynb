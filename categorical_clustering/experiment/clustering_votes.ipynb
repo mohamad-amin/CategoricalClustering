{
 "cells": [
  {
   "cell_type": "code",
   "execution_count": 1,
   "metadata": {
    "pycharm": {
     "is_executing": false
    }
   },
   "outputs": [],
   "source": [
    "import numpy as np\n",
    "import pandas as pd\n",
    "\n",
    "from categorical_clustering.experiment.label_generator import generate_labels\n",
    "\n",
    "df = pd.read_csv('../data/votes.data', header=None)"
   ]
  },
  {
   "cell_type": "code",
   "execution_count": 2,
   "metadata": {
    "pycharm": {
     "name": "#%%\n"
    }
   },
   "outputs": [],
   "source": [
    "from categorical_clustering.core.algorithm.separate_attribute_pmf import SeparateAttributePMF as SAPMF\n",
    "model = SAPMF(n_clusters=8)\n",
    "model.set_data(df)\n"
   ]
  },
  {
   "cell_type": "code",
   "execution_count": null,
   "metadata": {
    "pycharm": {
     "name": "#%%\n"
    }
   },
   "outputs": [
    {
     "name": "stdout",
     "output_type": "stream",
     "text": [
      "Moved points in iteration 1: 435\n"
     ]
    },
    {
     "name": "stderr",
     "output_type": "stream",
     "text": [
      "/Users/hezardastan/Library/Python/3.7/lib/python/site-packages/scipy/stats/_distn_infrastructure.py:2544: RuntimeWarning: invalid value encountered in true_divide\n",
      "  pk = 1.0*pk / np.sum(pk, axis=0)\n"
     ]
    },
    {
     "name": "stdout",
     "output_type": "stream",
     "text": [
      "Overall impurity is now: nan\n",
      "Moved points in iteration 2: 435\n",
      "Overall impurity is now: nan\n",
      "Moved points in iteration 3: 435\n",
      "Overall impurity is now: nan\n",
      "Moved points in iteration 4: 435\n",
      "Overall impurity is now: nan\n",
      "Moved points in iteration 5: 435\n",
      "Overall impurity is now: nan\n",
      "Moved points in iteration 6: 435\n",
      "Overall impurity is now: nan\n",
      "Moved points in iteration 7: 435\n",
      "Overall impurity is now: nan\n",
      "Moved points in iteration 8: 435\n",
      "Overall impurity is now: nan\n",
      "Moved points in iteration 9: 435\n",
      "Overall impurity is now: nan\n",
      "Moved points in iteration 10: 435\n",
      "Overall impurity is now: nan\n",
      "Moved points in iteration 11: 435\n",
      "Overall impurity is now: nan\n",
      "Moved points in iteration 12: 435\n",
      "Overall impurity is now: nan\n",
      "Moved points in iteration 13: 435\n",
      "Overall impurity is now: nan\n",
      "Moved points in iteration 14: 435\n",
      "Overall impurity is now: nan\n",
      "Moved points in iteration 15: 435\n",
      "Overall impurity is now: nan\n",
      "Moved points in iteration 16: 435\n",
      "Overall impurity is now: nan\n",
      "Moved points in iteration 17: 435\n",
      "Overall impurity is now: nan\n",
      "Moved points in iteration 18: 435\n",
      "Overall impurity is now: nan\n",
      "Moved points in iteration 19: 435\n",
      "Overall impurity is now: nan\n",
      "Moved points in iteration 20: 435\n",
      "Overall impurity is now: nan\n",
      "Moved points in iteration 21: 435\n",
      "Overall impurity is now: nan\n",
      "Moved points in iteration 22: 435\n",
      "Overall impurity is now: nan\n",
      "Moved points in iteration 23: 435\n"
     ]
    }
   ],
   "source": [
    "clustering, iters = model.perform_clustering(update_proportion_criterion=1e-1, verbose=True)\n",
    "print('Converged in {} iterations!'.format(iters))\n"
   ]
  },
  {
   "cell_type": "code",
   "execution_count": null,
   "metadata": {
    "pycharm": {
     "name": "#%%\n"
    }
   },
   "outputs": [],
   "source": [
    "model.clustering.calculate_overall_impurity()"
   ]
  }
 ],
 "metadata": {
  "kernelspec": {
   "display_name": "Python 3",
   "language": "python",
   "name": "python3"
  },
  "language_info": {
   "codemirror_mode": {
    "name": "ipython",
    "version": 3
   },
   "file_extension": ".py",
   "mimetype": "text/x-python",
   "name": "python",
   "nbconvert_exporter": "python",
   "pygments_lexer": "ipython3",
   "version": "3.7.3"
  },
  "pycharm": {
   "stem_cell": {
    "cell_type": "raw",
    "metadata": {
     "collapsed": false
    },
    "source": []
   }
  }
 },
 "nbformat": 4,
 "nbformat_minor": 1
}
